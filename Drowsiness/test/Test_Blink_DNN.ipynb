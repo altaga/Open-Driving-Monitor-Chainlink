{
  "nbformat": 4,
  "nbformat_minor": 0,
  "metadata": {
    "colab": {
      "provenance": [],
      "authorship_tag": "ABX9TyMidvb7yhlJcU/eQWZsvjQt",
      "include_colab_link": true
    },
    "kernelspec": {
      "name": "python3",
      "display_name": "Python 3"
    },
    "language_info": {
      "name": "python"
    }
  },
  "cells": [
    {
      "cell_type": "markdown",
      "metadata": {
        "id": "view-in-github",
        "colab_type": "text"
      },
      "source": [
        "<a href=\"https://colab.research.google.com/github/altaga/Open-Driving-Monitor/blob/main/Drowsiness/test/Test_Blink_DNN.ipynb\" target=\"_parent\"><img src=\"https://colab.research.google.com/assets/colab-badge.svg\" alt=\"Open In Colab\"/></a>"
      ]
    },
    {
      "cell_type": "markdown",
      "source": [
        "Download model and images for the test"
      ],
      "metadata": {
        "id": "lwI2yg0H2wVK"
      }
    },
    {
      "cell_type": "code",
      "execution_count": null,
      "metadata": {
        "id": "4ljv7b38r-a3"
      },
      "outputs": [],
      "source": [
        "!wget https://github.com/altaga/Open-Driving-Monitor/raw/main/Drowsiness/model/blink-v1.pb\n",
        "!wget https://github.com/altaga/Open-Driving-Monitor/raw/main/Drowsiness/model/frozen_graph.pb\n",
        "!wget https://github.com/altaga/Open-Driving-Monitor/raw/main/Drowsiness/test/testImages.zip -O temp.zip\n",
        "!unzip temp.zip\n",
        "!rm temp.zip"
      ]
    },
    {
      "cell_type": "markdown",
      "source": [
        "Testing all images and display the results."
      ],
      "metadata": {
        "id": "wmzJ-oP527_x"
      }
    },
    {
      "cell_type": "code",
      "source": [
        "import cv2\n",
        "import numpy as np\n",
        "import time\n",
        "import os\n",
        "import json\n",
        "from matplotlib import pyplot as plt\n",
        "\n",
        "precisionByClass = {}\n",
        "counter = 0\n",
        "\n",
        "class_names = [ 'Close', 'Open' ]\n",
        "for classes in class_names:\n",
        "    precisionByClass[classes] = 0\n",
        "\n",
        "testImages = sorted(os.listdir(\"testImages\"))\n",
        "\n",
        "# Plot Settings\n",
        "fig = plt.figure(figsize=(7*4,2*4))\n",
        "\n",
        "\n",
        "model = cv2.dnn.readNetFromTensorflow('blink-v1.pb')\n",
        "\n",
        "# load the image from disk\n",
        "\n",
        "i = 0\n",
        "for imagePath in testImages:\n",
        "    i+=1\n",
        "    startReal = time.process_time()\n",
        "    image = cv2.imread(\"testImages/\"+imagePath)\n",
        "    color = cv2.cvtColor(image, cv2.COLOR_BGR2RGB)\n",
        "    gray = cv2.cvtColor(image, cv2.COLOR_BGR2GRAY)\n",
        "    gray3 = cv2.cvtColor(gray, cv2.COLOR_GRAY2BGR)\n",
        "    resized = cv2.resize(gray3, (24, 24),  interpolation=cv2.INTER_AREA)\n",
        "    blob = cv2.dnn.blobFromImage(image=resized, scalefactor=1/256, size=(24, 24))\n",
        "    model.setInput(blob)\n",
        "    start = time.process_time()\n",
        "    outputs = model.forward(model.getUnconnectedOutLayersNames())\n",
        "    final_outputs = outputs[0][0]\n",
        "    label_id = np.argmax(final_outputs)\n",
        "    probs = np.exp(final_outputs) / np.sum(np.exp(final_outputs))\n",
        "    final_prob = np.max(probs) * 100.\n",
        "    out_name = class_names[label_id]\n",
        "    if imagePath.replace(\".png\",\"\")[:-1]== out_name : counter +=1\n",
        "    if imagePath.replace(\".png\",\"\")[:-1]== out_name : precisionByClass[out_name] +=1\n",
        "    fig.add_subplot(2, 7, i)\n",
        "    plt.imshow(color)\n",
        "    plt.title(\"Predicted: {}\\nReal: {}\\nProcessing: {:.4f}\".format(out_name, imagePath.replace(\".png\",\"\")[:-1],time.process_time() - start))\n",
        "    plt.subplots_adjust( hspace=1)\n",
        "\n",
        "plt.show()"
      ],
      "metadata": {
        "id": "pu-reS6Ps_rC"
      },
      "execution_count": null,
      "outputs": []
    },
    {
      "cell_type": "markdown",
      "source": [
        "Showing a bar chart with the correct predictions and efficiency of the neural network."
      ],
      "metadata": {
        "id": "5MkJn86-3Lqe"
      }
    },
    {
      "cell_type": "code",
      "source": [
        "temp = precisionByClass\n",
        "for classes in class_names:\n",
        "    temp[classes] /= 7\n",
        "    temp[classes] *= 100\n",
        "\n",
        "emotions = list(temp.keys())\n",
        "values = list(temp.values())\n",
        "\n",
        "fig = plt.figure(figsize = (10, 5))\n",
        "\n",
        "# creating the bar plot\n",
        "plt.bar(emotions, values, color ='maroon',\n",
        "        width = 0.4)\n",
        "\n",
        "plt.xlabel(\"Predicted eye state\")\n",
        "plt.ylabel(\"Correctly predicted eye state %\")\n",
        "plt.title(\"Network Precision: {:.2f}%\".format((counter/len(testImages))*100))\n",
        "plt.show()"
      ],
      "metadata": {
        "id": "4aeqainmz4rm"
      },
      "execution_count": null,
      "outputs": []
    }
  ]
}